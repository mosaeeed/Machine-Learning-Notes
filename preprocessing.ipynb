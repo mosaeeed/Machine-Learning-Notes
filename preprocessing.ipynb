{
  "nbformat": 4,
  "nbformat_minor": 0,
  "metadata": {
    "colab": {
      "name": "preprocessing.ipynb",
      "provenance": [],
      "collapsed_sections": []
    },
    "kernelspec": {
      "name": "python3",
      "display_name": "Python 3"
    },
    "language_info": {
      "name": "python"
    }
  },
  "cells": [
    {
      "cell_type": "markdown",
      "source": [
        "# Data Preprocessing"
      ],
      "metadata": {
        "id": "aoys0AxQuxeP"
      }
    },
    {
      "cell_type": "markdown",
      "source": [
        "## 1. Import all the crucial libraries"
      ],
      "metadata": {
        "id": "QfsvZ4_6vF1F"
      }
    },
    {
      "cell_type": "markdown",
      "source": [
        "\n",
        "- **NumPy** – NumPy is the fundamental package for scientific calculation in Python. Hence, it is used for inserting any type of mathematical operation in the code. Using NumPy, you can also add large multidimensional arrays and matrices in your code. \n",
        "- **Pandas** – Pandas is an excellent open-source Python library for data manipulation and analysis. It is extensively used for importing and managing the datasets. It packs in high-performance, easy-to-use data structures and data analysis tools for Python.\n",
        "- **Matplotlib** – Matplotlib is a Python 2D plotting library that is used to plot any type of charts in Python. It can deliver publication-quality figures in numerous hard copy formats and interactive environments across platforms (IPython shells, Jupyter notebook, web application servers, etc.). \n",
        "\n"
      ],
      "metadata": {
        "id": "SElQAQaUvOUT"
      }
    },
    {
      "cell_type": "code",
      "source": [
        "import numpy as np\n",
        "import pandas as pd\n",
        "import matplotlib.pyplot as plt"
      ],
      "metadata": {
        "id": "0NoN0d8-vMZy"
      },
      "execution_count": 3,
      "outputs": []
    },
    {
      "cell_type": "markdown",
      "source": [
        "## 2. Import the dataset\n"
      ],
      "metadata": {
        "id": "-MJIUe6-v9iQ"
      }
    },
    {
      "cell_type": "code",
      "source": [
        "data_set = pd.read_csv('Data.csv')"
      ],
      "metadata": {
        "id": "6iNYLETozOQ7"
      },
      "execution_count": 4,
      "outputs": []
    },
    {
      "cell_type": "code",
      "source": [
        "# explore the first 5 rows in the data\n",
        "data_set.head()"
      ],
      "metadata": {
        "colab": {
          "base_uri": "https://localhost:8080/",
          "height": 206
        },
        "id": "vjXuhCTSzUY2",
        "outputId": "df1f4558-fdf4-4c09-dd3f-be02a0a095f6"
      },
      "execution_count": 5,
      "outputs": [
        {
          "output_type": "execute_result",
          "data": {
            "text/plain": [
              "   Country   Age   Salary Purchased\n",
              "0   France  44.0  72000.0        No\n",
              "1    Spain  27.0  48000.0       Yes\n",
              "2  Germany  30.0  54000.0        No\n",
              "3    Spain  38.0  61000.0        No\n",
              "4  Germany  40.0      NaN       Yes"
            ],
            "text/html": [
              "\n",
              "  <div id=\"df-15ff7daf-c1db-4f01-b53f-a5c430ee03bc\">\n",
              "    <div class=\"colab-df-container\">\n",
              "      <div>\n",
              "<style scoped>\n",
              "    .dataframe tbody tr th:only-of-type {\n",
              "        vertical-align: middle;\n",
              "    }\n",
              "\n",
              "    .dataframe tbody tr th {\n",
              "        vertical-align: top;\n",
              "    }\n",
              "\n",
              "    .dataframe thead th {\n",
              "        text-align: right;\n",
              "    }\n",
              "</style>\n",
              "<table border=\"1\" class=\"dataframe\">\n",
              "  <thead>\n",
              "    <tr style=\"text-align: right;\">\n",
              "      <th></th>\n",
              "      <th>Country</th>\n",
              "      <th>Age</th>\n",
              "      <th>Salary</th>\n",
              "      <th>Purchased</th>\n",
              "    </tr>\n",
              "  </thead>\n",
              "  <tbody>\n",
              "    <tr>\n",
              "      <th>0</th>\n",
              "      <td>France</td>\n",
              "      <td>44.0</td>\n",
              "      <td>72000.0</td>\n",
              "      <td>No</td>\n",
              "    </tr>\n",
              "    <tr>\n",
              "      <th>1</th>\n",
              "      <td>Spain</td>\n",
              "      <td>27.0</td>\n",
              "      <td>48000.0</td>\n",
              "      <td>Yes</td>\n",
              "    </tr>\n",
              "    <tr>\n",
              "      <th>2</th>\n",
              "      <td>Germany</td>\n",
              "      <td>30.0</td>\n",
              "      <td>54000.0</td>\n",
              "      <td>No</td>\n",
              "    </tr>\n",
              "    <tr>\n",
              "      <th>3</th>\n",
              "      <td>Spain</td>\n",
              "      <td>38.0</td>\n",
              "      <td>61000.0</td>\n",
              "      <td>No</td>\n",
              "    </tr>\n",
              "    <tr>\n",
              "      <th>4</th>\n",
              "      <td>Germany</td>\n",
              "      <td>40.0</td>\n",
              "      <td>NaN</td>\n",
              "      <td>Yes</td>\n",
              "    </tr>\n",
              "  </tbody>\n",
              "</table>\n",
              "</div>\n",
              "      <button class=\"colab-df-convert\" onclick=\"convertToInteractive('df-15ff7daf-c1db-4f01-b53f-a5c430ee03bc')\"\n",
              "              title=\"Convert this dataframe to an interactive table.\"\n",
              "              style=\"display:none;\">\n",
              "        \n",
              "  <svg xmlns=\"http://www.w3.org/2000/svg\" height=\"24px\"viewBox=\"0 0 24 24\"\n",
              "       width=\"24px\">\n",
              "    <path d=\"M0 0h24v24H0V0z\" fill=\"none\"/>\n",
              "    <path d=\"M18.56 5.44l.94 2.06.94-2.06 2.06-.94-2.06-.94-.94-2.06-.94 2.06-2.06.94zm-11 1L8.5 8.5l.94-2.06 2.06-.94-2.06-.94L8.5 2.5l-.94 2.06-2.06.94zm10 10l.94 2.06.94-2.06 2.06-.94-2.06-.94-.94-2.06-.94 2.06-2.06.94z\"/><path d=\"M17.41 7.96l-1.37-1.37c-.4-.4-.92-.59-1.43-.59-.52 0-1.04.2-1.43.59L10.3 9.45l-7.72 7.72c-.78.78-.78 2.05 0 2.83L4 21.41c.39.39.9.59 1.41.59.51 0 1.02-.2 1.41-.59l7.78-7.78 2.81-2.81c.8-.78.8-2.07 0-2.86zM5.41 20L4 18.59l7.72-7.72 1.47 1.35L5.41 20z\"/>\n",
              "  </svg>\n",
              "      </button>\n",
              "      \n",
              "  <style>\n",
              "    .colab-df-container {\n",
              "      display:flex;\n",
              "      flex-wrap:wrap;\n",
              "      gap: 12px;\n",
              "    }\n",
              "\n",
              "    .colab-df-convert {\n",
              "      background-color: #E8F0FE;\n",
              "      border: none;\n",
              "      border-radius: 50%;\n",
              "      cursor: pointer;\n",
              "      display: none;\n",
              "      fill: #1967D2;\n",
              "      height: 32px;\n",
              "      padding: 0 0 0 0;\n",
              "      width: 32px;\n",
              "    }\n",
              "\n",
              "    .colab-df-convert:hover {\n",
              "      background-color: #E2EBFA;\n",
              "      box-shadow: 0px 1px 2px rgba(60, 64, 67, 0.3), 0px 1px 3px 1px rgba(60, 64, 67, 0.15);\n",
              "      fill: #174EA6;\n",
              "    }\n",
              "\n",
              "    [theme=dark] .colab-df-convert {\n",
              "      background-color: #3B4455;\n",
              "      fill: #D2E3FC;\n",
              "    }\n",
              "\n",
              "    [theme=dark] .colab-df-convert:hover {\n",
              "      background-color: #434B5C;\n",
              "      box-shadow: 0px 1px 3px 1px rgba(0, 0, 0, 0.15);\n",
              "      filter: drop-shadow(0px 1px 2px rgba(0, 0, 0, 0.3));\n",
              "      fill: #FFFFFF;\n",
              "    }\n",
              "  </style>\n",
              "\n",
              "      <script>\n",
              "        const buttonEl =\n",
              "          document.querySelector('#df-15ff7daf-c1db-4f01-b53f-a5c430ee03bc button.colab-df-convert');\n",
              "        buttonEl.style.display =\n",
              "          google.colab.kernel.accessAllowed ? 'block' : 'none';\n",
              "\n",
              "        async function convertToInteractive(key) {\n",
              "          const element = document.querySelector('#df-15ff7daf-c1db-4f01-b53f-a5c430ee03bc');\n",
              "          const dataTable =\n",
              "            await google.colab.kernel.invokeFunction('convertToInteractive',\n",
              "                                                     [key], {});\n",
              "          if (!dataTable) return;\n",
              "\n",
              "          const docLinkHtml = 'Like what you see? Visit the ' +\n",
              "            '<a target=\"_blank\" href=https://colab.research.google.com/notebooks/data_table.ipynb>data table notebook</a>'\n",
              "            + ' to learn more about interactive tables.';\n",
              "          element.innerHTML = '';\n",
              "          dataTable['output_type'] = 'display_data';\n",
              "          await google.colab.output.renderOutput(dataTable, element);\n",
              "          const docLink = document.createElement('div');\n",
              "          docLink.innerHTML = docLinkHtml;\n",
              "          element.appendChild(docLink);\n",
              "        }\n",
              "      </script>\n",
              "    </div>\n",
              "  </div>\n",
              "  "
            ]
          },
          "metadata": {},
          "execution_count": 5
        }
      ]
    },
    {
      "cell_type": "markdown",
      "source": [
        "### extract the independent and unindependent variables"
      ],
      "metadata": {
        "id": "dMYRndkSzrtp"
      }
    },
    {
      "cell_type": "code",
      "source": [
        "# independent variables\n",
        "X = data_set.iloc[:,:-1].values  "
      ],
      "metadata": {
        "id": "_Kgs5a-KzkGn"
      },
      "execution_count": 13,
      "outputs": []
    },
    {
      "cell_type": "code",
      "source": [
        "print(X)"
      ],
      "metadata": {
        "colab": {
          "base_uri": "https://localhost:8080/"
        },
        "id": "hKADc8wB0DTo",
        "outputId": "7ee750ee-bf63-4f9d-e9f7-07bd6475f1a7"
      },
      "execution_count": 14,
      "outputs": [
        {
          "output_type": "stream",
          "name": "stdout",
          "text": [
            "[['France' 44.0 72000.0]\n",
            " ['Spain' 27.0 48000.0]\n",
            " ['Germany' 30.0 54000.0]\n",
            " ['Spain' 38.0 61000.0]\n",
            " ['Germany' 40.0 nan]\n",
            " ['France' 35.0 58000.0]\n",
            " ['Spain' nan 52000.0]\n",
            " ['France' 48.0 79000.0]\n",
            " ['Germany' 50.0 83000.0]\n",
            " ['France' 37.0 67000.0]]\n"
          ]
        }
      ]
    },
    {
      "cell_type": "code",
      "source": [
        "# unindependent variables\n",
        "y = data_set.iloc[:,-1].values  "
      ],
      "metadata": {
        "id": "yrrQSl310EuF"
      },
      "execution_count": 9,
      "outputs": []
    },
    {
      "cell_type": "code",
      "source": [
        "print(y)"
      ],
      "metadata": {
        "colab": {
          "base_uri": "https://localhost:8080/"
        },
        "id": "zf9ogxUY0RGW",
        "outputId": "3683fbc8-cab3-4d3a-e73a-0ea93890bac9"
      },
      "execution_count": 11,
      "outputs": [
        {
          "output_type": "stream",
          "name": "stdout",
          "text": [
            "['No' 'Yes' 'No' 'No' 'Yes' 'Yes' 'No' 'Yes' 'No' 'Yes']\n"
          ]
        }
      ]
    },
    {
      "cell_type": "markdown",
      "source": [
        "## 3. Identifying and handling the missing values"
      ],
      "metadata": {
        "id": "gUdtnLp60crC"
      }
    },
    {
      "cell_type": "markdown",
      "source": [
        "Basically, there are two ways to handle missing data:\n",
        "\n",
        "  - **Deleting a particular row** – In this method, you remove a specific row that has a null value for a feature or a particular column where more than 75% of the values are missing. However, this method is not 100% efficient, and it is recommended that you use it only when the dataset has adequate samples. You must ensure that after deleting the data, there remains no addition of bias. \n",
        "  - **Calculating the mean** – This method is useful for features having numeric data like age, salary, year, etc. Here, you can calculate the mean, median, or mode of a particular feature or column or row that contains a missing value and replace the result for the missing value. This method can add variance to the dataset, and any loss of data can be efficiently negated. Hence, it yields better results compared to the first method (omission of rows/columns). Another way of approximation is through the deviation of neighbouring values. However, this works best for linear data.\n"
      ],
      "metadata": {
        "id": "AVu7orEt0on3"
      }
    },
    {
      "cell_type": "code",
      "source": [
        "# Taking care of missing data\n",
        "from sklearn.impute import SimpleImputer\n",
        "imputer = SimpleImputer(missing_values=np.nan, strategy='mean')\n",
        "imputer.fit(X[:, 1:3])\n",
        "X[:, 1:3] = imputer.transform(X[:, 1:3])\n",
        "print(X)"
      ],
      "metadata": {
        "colab": {
          "base_uri": "https://localhost:8080/"
        },
        "id": "VuDZ1yRA0hPb",
        "outputId": "6b881d7b-22b2-4aa4-a0a4-d42cac07d3c9"
      },
      "execution_count": 15,
      "outputs": [
        {
          "output_type": "stream",
          "name": "stdout",
          "text": [
            "[['France' 44.0 72000.0]\n",
            " ['Spain' 27.0 48000.0]\n",
            " ['Germany' 30.0 54000.0]\n",
            " ['Spain' 38.0 61000.0]\n",
            " ['Germany' 40.0 63777.77777777778]\n",
            " ['France' 35.0 58000.0]\n",
            " ['Spain' 38.77777777777778 52000.0]\n",
            " ['France' 48.0 79000.0]\n",
            " ['Germany' 50.0 83000.0]\n",
            " ['France' 37.0 67000.0]]\n"
          ]
        }
      ]
    },
    {
      "cell_type": "markdown",
      "source": [
        "## 4. Encoding the categorical data"
      ],
      "metadata": {
        "id": "-PrkPa0q3E4q"
      }
    },
    {
      "cell_type": "markdown",
      "source": [
        "Categorical data refers to the information that has specific categories within the dataset. In the dataset cited above, there are two categorical variables – country and purchased.\n",
        "\n",
        "Machine Learning models are primarily based on mathematical equations. Thus, you can intuitively understand that keeping the categorical data in the equation will cause certain issues since you would only need numbers in the equations."
      ],
      "metadata": {
        "id": "A0yguqef3H2T"
      }
    },
    {
      "cell_type": "markdown",
      "source": [
        "### How to encode the country variable?"
      ],
      "metadata": {
        "id": "zexbbciD3Mnt"
      }
    },
    {
      "cell_type": "markdown",
      "source": [
        "As seen in our dataset example, the country column will cause problems, so you must convert it into numerical values. To do so, you can use the LabelEncoder() class from the sci-kit learn library. The code will be as follows"
      ],
      "metadata": {
        "id": "Hf84tKHx3PgN"
      }
    },
    {
      "cell_type": "code",
      "source": [
        "# Encoding categorical data\n",
        "# Encoding the Independent Variable\n",
        "from sklearn.compose import ColumnTransformer\n",
        "from sklearn.preprocessing import OneHotEncoder\n",
        "ct = ColumnTransformer(transformers=[('encoder', OneHotEncoder(), [0])], remainder='passthrough')\n",
        "X = np.array(ct.fit_transform(X))\n",
        "print(X)"
      ],
      "metadata": {
        "colab": {
          "base_uri": "https://localhost:8080/"
        },
        "id": "QBI5ijnO3Vcr",
        "outputId": "da42f1ec-1dac-4d69-f27c-b4e570666b7b"
      },
      "execution_count": 16,
      "outputs": [
        {
          "output_type": "stream",
          "name": "stdout",
          "text": [
            "[[1.0 0.0 0.0 44.0 72000.0]\n",
            " [0.0 0.0 1.0 27.0 48000.0]\n",
            " [0.0 1.0 0.0 30.0 54000.0]\n",
            " [0.0 0.0 1.0 38.0 61000.0]\n",
            " [0.0 1.0 0.0 40.0 63777.77777777778]\n",
            " [1.0 0.0 0.0 35.0 58000.0]\n",
            " [0.0 0.0 1.0 38.77777777777778 52000.0]\n",
            " [1.0 0.0 0.0 48.0 79000.0]\n",
            " [0.0 1.0 0.0 50.0 83000.0]\n",
            " [1.0 0.0 0.0 37.0 67000.0]]\n"
          ]
        }
      ]
    },
    {
      "cell_type": "code",
      "source": [
        "# Encoding the Dependent Variable\n",
        "from sklearn.preprocessing import LabelEncoder\n",
        "le = LabelEncoder()\n",
        "y = le.fit_transform(y)\n",
        "print(y)"
      ],
      "metadata": {
        "colab": {
          "base_uri": "https://localhost:8080/"
        },
        "id": "NnYDOI-c3gVf",
        "outputId": "75ec2de6-7626-4c6c-da97-17a83c1c8838"
      },
      "execution_count": 17,
      "outputs": [
        {
          "output_type": "stream",
          "name": "stdout",
          "text": [
            "[0 1 0 0 1 1 0 1 0 1]\n"
          ]
        }
      ]
    },
    {
      "cell_type": "markdown",
      "source": [
        "## 5. Splitting the dataset"
      ],
      "metadata": {
        "id": "VUU90b7I36kM"
      }
    },
    {
      "cell_type": "markdown",
      "source": [
        "Splitting the dataset is the next step in data preprocessing in machine learning. Every dataset for Machine Learning model must be split into two separate sets – training set and test set. "
      ],
      "metadata": {
        "id": "bEJ5fyfG38e8"
      }
    },
    {
      "cell_type": "markdown",
      "source": [
        "Training set denotes the subset of a dataset that is used for training the machine learning model. Here, you are already aware of the output. A test set, on the other hand, is the subset of the dataset that is used for testing the machine learning model. The ML model uses the test set to predict outcomes. \n",
        "\n",
        "Usually, the dataset is split into 70:30 ratio or 80:20 ratio. This means that you either take 70% or 80% of the data for training the model while leaving out the rest 30% or 20%. The splitting process varies according to the shape and size of the dataset in question. "
      ],
      "metadata": {
        "id": "XDhBGRhY4Gvm"
      }
    },
    {
      "cell_type": "markdown",
      "source": [
        ""
      ],
      "metadata": {
        "id": "FbHhJ11b36gc"
      }
    },
    {
      "cell_type": "code",
      "source": [
        "# Splitting the dataset into the Training set and Test set\n",
        "from sklearn.model_selection import train_test_split\n",
        "X_train, X_test, y_train, y_test = train_test_split(X, y, test_size = 0.2, random_state = 1)"
      ],
      "metadata": {
        "id": "DISVVihd3kZZ"
      },
      "execution_count": null,
      "outputs": []
    },
    {
      "cell_type": "code",
      "source": [
        "print(X_train)"
      ],
      "metadata": {
        "colab": {
          "base_uri": "https://localhost:8080/"
        },
        "id": "IwdL7ZI54WxY",
        "outputId": "45d4d84f-73cf-4d67-f0da-1fcdc22596ef"
      },
      "execution_count": 19,
      "outputs": [
        {
          "output_type": "stream",
          "name": "stdout",
          "text": [
            "[[0.0 0.0 1.0 38.77777777777778 52000.0]\n",
            " [0.0 1.0 0.0 40.0 63777.77777777778]\n",
            " [1.0 0.0 0.0 44.0 72000.0]\n",
            " [0.0 0.0 1.0 38.0 61000.0]\n",
            " [0.0 0.0 1.0 27.0 48000.0]\n",
            " [1.0 0.0 0.0 48.0 79000.0]\n",
            " [0.0 1.0 0.0 50.0 83000.0]\n",
            " [1.0 0.0 0.0 35.0 58000.0]]\n"
          ]
        }
      ]
    },
    {
      "cell_type": "code",
      "source": [
        "print(X_test)"
      ],
      "metadata": {
        "colab": {
          "base_uri": "https://localhost:8080/"
        },
        "id": "6ZBp_ye04WuY",
        "outputId": "4c0240e2-1ba6-4547-cb74-bff6d8a9cba4"
      },
      "execution_count": 20,
      "outputs": [
        {
          "output_type": "stream",
          "name": "stdout",
          "text": [
            "[[0.0 1.0 0.0 30.0 54000.0]\n",
            " [1.0 0.0 0.0 37.0 67000.0]]\n"
          ]
        }
      ]
    },
    {
      "cell_type": "code",
      "source": [
        "print(y_train)"
      ],
      "metadata": {
        "colab": {
          "base_uri": "https://localhost:8080/"
        },
        "id": "-yVhp-Mm4bj1",
        "outputId": "dff47746-6863-44a0-c2f1-720d3e4f7e16"
      },
      "execution_count": 21,
      "outputs": [
        {
          "output_type": "stream",
          "name": "stdout",
          "text": [
            "[0 1 0 0 1 1 0 1]\n"
          ]
        }
      ]
    },
    {
      "cell_type": "code",
      "source": [
        "print(y_test)"
      ],
      "metadata": {
        "colab": {
          "base_uri": "https://localhost:8080/"
        },
        "id": "ZqftWmCM4deQ",
        "outputId": "72cde786-0723-43b0-acde-0ed45eff3599"
      },
      "execution_count": 22,
      "outputs": [
        {
          "output_type": "stream",
          "name": "stdout",
          "text": [
            "[0 1]\n"
          ]
        }
      ]
    },
    {
      "cell_type": "markdown",
      "source": [
        "## 6. Feature scaling"
      ],
      "metadata": {
        "id": "K3fvM_Wa4jHM"
      }
    },
    {
      "cell_type": "markdown",
      "source": [
        "Feature scaling marks the end of the data preprocessing in Machine Learning. It is a method to standardize the independent variables of a dataset within a specific range. In other words, feature scaling limits the range of variables so that you can compare them on common grounds."
      ],
      "metadata": {
        "id": "AUA4iOXt4lqT"
      }
    },
    {
      "cell_type": "markdown",
      "source": [
        "In the dataset, you can notice that the age and salary columns do not have the same scale. In such a scenario, if you compute any two values from the age and salary columns, the salary values will dominate the age values and deliver incorrect results. Thus, you must remove this issue by performing feature scaling for Machine Learning."
      ],
      "metadata": {
        "id": "Av3yoy024vsl"
      }
    },
    {
      "cell_type": "markdown",
      "source": [
        "Most ML models are based on Euclidean Distance, which is represented as:\n",
        "![01.png](data:image/png;base64,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)"
      ],
      "metadata": {
        "id": "_l1i35YL456N"
      }
    },
    {
      "cell_type": "markdown",
      "source": [
        "You can perform feature scaling in Machine Learning in two ways:\n",
        "\n",
        "### Standardization\n",
        "![02.png](data:image/png;base64,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)\n",
        "\n",
        "### Normalization\n",
        "![03.png](data:image/png;base64,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)"
      ],
      "metadata": {
        "id": "uS1j2oBS5FR-"
      }
    },
    {
      "cell_type": "code",
      "source": [
        "# Feature Scaling\n",
        "from sklearn.preprocessing import StandardScaler\n",
        "sc = StandardScaler()\n",
        "X_train[:, 3:] = sc.fit_transform(X_train[:, 3:])\n",
        "X_test[:, 3:] = sc.transform(X_test[:, 3:])"
      ],
      "metadata": {
        "id": "b4J87nUw6EmH"
      },
      "execution_count": 23,
      "outputs": []
    },
    {
      "cell_type": "code",
      "source": [
        "print(X_train)"
      ],
      "metadata": {
        "colab": {
          "base_uri": "https://localhost:8080/"
        },
        "id": "KPIhSsZ-6LrT",
        "outputId": "f9928f01-1630-435e-d930-ed39d71097ed"
      },
      "execution_count": 24,
      "outputs": [
        {
          "output_type": "stream",
          "name": "stdout",
          "text": [
            "[[0.0 0.0 1.0 -0.19159184384578545 -1.0781259408412425]\n",
            " [0.0 1.0 0.0 -0.014117293757057777 -0.07013167641635372]\n",
            " [1.0 0.0 0.0 0.566708506533324 0.633562432710455]\n",
            " [0.0 0.0 1.0 -0.30453019390224867 -0.30786617274297867]\n",
            " [0.0 0.0 1.0 -1.9018011447007988 -1.420463615551582]\n",
            " [1.0 0.0 0.0 1.1475343068237058 1.232653363453549]\n",
            " [0.0 1.0 0.0 1.4379472069688968 1.5749910381638885]\n",
            " [1.0 0.0 0.0 -0.7401495441200351 -0.5646194287757332]]\n"
          ]
        }
      ]
    },
    {
      "cell_type": "code",
      "source": [
        "print(X_test)"
      ],
      "metadata": {
        "colab": {
          "base_uri": "https://localhost:8080/"
        },
        "id": "8PIYweVc6NgU",
        "outputId": "8308b2ec-9a6e-48ec-ae99-ca6f38d2c314"
      },
      "execution_count": 25,
      "outputs": [
        {
          "output_type": "stream",
          "name": "stdout",
          "text": [
            "[[0.0 1.0 0.0 -1.4661817944830124 -0.9069571034860727]\n",
            " [1.0 0.0 0.0 -0.44973664397484414 0.2056403393225306]]\n"
          ]
        }
      ]
    }
  ]
}